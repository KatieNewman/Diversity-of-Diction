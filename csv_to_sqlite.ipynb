{
 "cells": [
  {
   "cell_type": "code",
   "execution_count": 1,
   "metadata": {},
   "outputs": [],
   "source": [
    "import pandas as pd\n",
    "import sqlite3\n",
    "\n",
    "# SQL Alchemy\n",
    "from sqlalchemy import create_engine"
   ]
  },
  {
   "cell_type": "code",
   "execution_count": 2,
   "metadata": {},
   "outputs": [],
   "source": [
    "#connect\n",
    "conn = sqlite3.connect('testDB.sqlite')"
   ]
  },
  {
   "cell_type": "code",
   "execution_count": 3,
   "metadata": {},
   "outputs": [],
   "source": [
    "#obtain a cursor - something to loop through via database connection\n",
    "cur = conn.cursor()"
   ]
  },
  {
   "cell_type": "code",
   "execution_count": 4,
   "metadata": {},
   "outputs": [],
   "source": [
    "read_word_data = pd.read_csv (r'all_word_data.csv')\n",
    "read_word_data.to_sql('WORDS', conn, if_exists='append', index = False) # Insert the values from the csv file into the table 'WORDS' "
   ]
  },
  {
   "cell_type": "code",
   "execution_count": 6,
   "metadata": {},
   "outputs": [],
   "source": [
    "# Query All Records in the the City Table\n",
    "word_data = pd.read_sql(\"SELECT * FROM WORDS\", conn)"
   ]
  },
  {
   "cell_type": "code",
   "execution_count": 7,
   "metadata": {},
   "outputs": [
    {
     "data": {
      "text/html": [
       "<div>\n",
       "<style scoped>\n",
       "    .dataframe tbody tr th:only-of-type {\n",
       "        vertical-align: middle;\n",
       "    }\n",
       "\n",
       "    .dataframe tbody tr th {\n",
       "        vertical-align: top;\n",
       "    }\n",
       "\n",
       "    .dataframe thead th {\n",
       "        text-align: right;\n",
       "    }\n",
       "</style>\n",
       "<table border=\"1\" class=\"dataframe\">\n",
       "  <thead>\n",
       "    <tr style=\"text-align: right;\">\n",
       "      <th></th>\n",
       "      <th>author_group</th>\n",
       "      <th>author</th>\n",
       "      <th>title</th>\n",
       "      <th>word</th>\n",
       "      <th>frequency</th>\n",
       "      <th>total_words_used</th>\n",
       "      <th>total_non_stop_words</th>\n",
       "      <th>total_unique_non_stop_words</th>\n",
       "    </tr>\n",
       "  </thead>\n",
       "  <tbody>\n",
       "    <tr>\n",
       "      <th>11503</th>\n",
       "      <td>journalists</td>\n",
       "      <td>Maggie Michael</td>\n",
       "      <td>MMichael3</td>\n",
       "      <td>years</td>\n",
       "      <td>3</td>\n",
       "      <td>764</td>\n",
       "      <td>459</td>\n",
       "      <td>283</td>\n",
       "    </tr>\n",
       "    <tr>\n",
       "      <th>11504</th>\n",
       "      <td>poets</td>\n",
       "      <td>E. E. Cummings</td>\n",
       "      <td>Poet4_Poem2</td>\n",
       "      <td>yore</td>\n",
       "      <td>3</td>\n",
       "      <td>1094</td>\n",
       "      <td>608</td>\n",
       "      <td>363</td>\n",
       "    </tr>\n",
       "    <tr>\n",
       "      <th>11505</th>\n",
       "      <td>journalists</td>\n",
       "      <td>David Barstow</td>\n",
       "      <td>DBarstow1</td>\n",
       "      <td>young</td>\n",
       "      <td>5</td>\n",
       "      <td>6958</td>\n",
       "      <td>3862</td>\n",
       "      <td>1517</td>\n",
       "    </tr>\n",
       "    <tr>\n",
       "      <th>11506</th>\n",
       "      <td>journalists</td>\n",
       "      <td>David Barstow</td>\n",
       "      <td>DBarstow4</td>\n",
       "      <td>FALSE</td>\n",
       "      <td>3</td>\n",
       "      <td>13893</td>\n",
       "      <td>8124</td>\n",
       "      <td>2612</td>\n",
       "    </tr>\n",
       "    <tr>\n",
       "      <th>11507</th>\n",
       "      <td>songwriters</td>\n",
       "      <td>Elvis Presley</td>\n",
       "      <td>artist3_song1</td>\n",
       "      <td>TRUE</td>\n",
       "      <td>6</td>\n",
       "      <td>222</td>\n",
       "      <td>78</td>\n",
       "      <td>40</td>\n",
       "    </tr>\n",
       "  </tbody>\n",
       "</table>\n",
       "</div>"
      ],
      "text/plain": [
       "      author_group          author          title   word  frequency  \\\n",
       "11503  journalists  Maggie Michael      MMichael3  years          3   \n",
       "11504        poets  E. E. Cummings    Poet4_Poem2   yore          3   \n",
       "11505  journalists   David Barstow      DBarstow1  young          5   \n",
       "11506  journalists   David Barstow      DBarstow4  FALSE          3   \n",
       "11507  songwriters   Elvis Presley  artist3_song1   TRUE          6   \n",
       "\n",
       "       total_words_used  total_non_stop_words  total_unique_non_stop_words  \n",
       "11503               764                   459                          283  \n",
       "11504              1094                   608                          363  \n",
       "11505              6958                  3862                         1517  \n",
       "11506             13893                  8124                         2612  \n",
       "11507               222                    78                           40  "
      ]
     },
     "execution_count": 7,
     "metadata": {},
     "output_type": "execute_result"
    }
   ],
   "source": [
    "word_data.tail()"
   ]
  },
  {
   "cell_type": "code",
   "execution_count": null,
   "metadata": {},
   "outputs": [],
   "source": []
  }
 ],
 "metadata": {
  "kernelspec": {
   "display_name": "Python 3",
   "language": "python",
   "name": "python3"
  },
  "language_info": {
   "codemirror_mode": {
    "name": "ipython",
    "version": 3
   },
   "file_extension": ".py",
   "mimetype": "text/x-python",
   "name": "python",
   "nbconvert_exporter": "python",
   "pygments_lexer": "ipython3",
   "version": "3.7.3"
  }
 },
 "nbformat": 4,
 "nbformat_minor": 2
}
